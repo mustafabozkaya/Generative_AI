{
  "cells": [
    {
      "cell_type": "markdown",
      "metadata": {
        "id": "view-in-github",
        "colab_type": "text"
      },
      "source": [
        "<a href=\"https://colab.research.google.com/github/mustafabozkaya/Generative_AI/blob/master/PyTorch/saving_and_loading_a_general_checkpoint.ipynb\" target=\"_parent\"><img src=\"https://colab.research.google.com/assets/colab-badge.svg\" alt=\"Open In Colab\"/></a>"
      ]
    },
    {
      "cell_type": "code",
      "execution_count": 4,
      "metadata": {
        "id": "BOcESy4A-s9o"
      },
      "outputs": [],
      "source": [
        "# For tips on running notebooks in Google Colab, see\n",
        "# https://pytorch.org/tutorials/beginner/colab\n",
        "%matplotlib inline"
      ]
    },
    {
      "cell_type": "markdown",
      "metadata": {
        "id": "fjAcYam4-s92"
      },
      "source": [
        "\n",
        "# Saving and loading a general checkpoint in PyTorch\n",
        "Saving and loading a general checkpoint model for inference or\n",
        "resuming training can be helpful for picking up where you last left off.\n",
        "When saving a general checkpoint, you must save more than just the\n",
        "model’s state_dict. It is important to also save the optimizer’s\n",
        "state_dict, as this contains buffers and parameters that are updated as\n",
        "the model trains. Other items that you may want to save are the epoch\n",
        "you left off on, the latest recorded training loss, external\n",
        "``torch.nn.Embedding`` layers, and more, based on your own algorithm.\n",
        "\n",
        "## Introduction\n",
        "To save multiple checkpoints, you must organize them in a dictionary and\n",
        "use ``torch.save()`` to serialize the dictionary. A common PyTorch\n",
        "convention is to save these checkpoints using the ``.tar`` file\n",
        "extension. To load the items, first initialize the model and optimizer,\n",
        "then load the dictionary locally using torch.load(). From here, you can\n",
        "easily access the saved items by simply querying the dictionary as you\n",
        "would expect.\n",
        "\n",
        "In this recipe, we will explore how to save and load multiple\n",
        "checkpoints.\n",
        "\n",
        "## Setup\n",
        "Before we begin, we need to install ``torch`` if it isn’t already\n",
        "available.\n",
        "\n",
        "::\n",
        "\n",
        "   pip install torch\n"
      ]
    },
    {
      "cell_type": "markdown",
      "metadata": {
        "id": "odZUJYbw-s9-"
      },
      "source": [
        "## Steps\n",
        "\n",
        "1. Import all necessary libraries for loading our data\n",
        "2. Define and initialize the neural network\n",
        "3. Initialize the optimizer\n",
        "4. Save the general checkpoint\n",
        "5. Load the general checkpoint\n",
        "\n",
        "### 1. Import necessary libraries for loading our data\n",
        "\n",
        "For this recipe, we will use ``torch`` and its subsidiaries ``torch.nn``\n",
        "and ``torch.optim``.\n",
        "\n",
        "\n"
      ]
    },
    {
      "cell_type": "code",
      "execution_count": 5,
      "metadata": {
        "id": "ei2MT4YP-s-B"
      },
      "outputs": [],
      "source": [
        "import torch\n",
        "import torch.nn as nn\n",
        "import torch.optim as optim"
      ]
    },
    {
      "cell_type": "markdown",
      "metadata": {
        "id": "Dd3bC0Eh-s-D"
      },
      "source": [
        "### 2. Define and initialize the neural network\n",
        "\n",
        "For sake of example, we will create a neural network for training\n",
        "images. To learn more see the Defining a Neural Network recipe.\n",
        "\n",
        "\n"
      ]
    },
    {
      "cell_type": "code",
      "execution_count": 6,
      "metadata": {
        "id": "aI6IA7OG-s-F",
        "outputId": "4d4ba401-b2ee-4a9f-fff5-bcad6f3e0d19",
        "colab": {
          "base_uri": "https://localhost:8080/"
        }
      },
      "outputs": [
        {
          "output_type": "stream",
          "name": "stdout",
          "text": [
            "Net(\n",
            "  (conv1): Conv2d(3, 6, kernel_size=(5, 5), stride=(1, 1))\n",
            "  (pool): MaxPool2d(kernel_size=2, stride=2, padding=0, dilation=1, ceil_mode=False)\n",
            "  (conv2): Conv2d(6, 16, kernel_size=(5, 5), stride=(1, 1))\n",
            "  (fc1): Linear(in_features=400, out_features=120, bias=True)\n",
            "  (fc2): Linear(in_features=120, out_features=84, bias=True)\n",
            "  (fc3): Linear(in_features=84, out_features=10, bias=True)\n",
            ")\n"
          ]
        }
      ],
      "source": [
        "class Net(nn.Module):\n",
        "    def __init__(self):\n",
        "        super(Net, self).__init__()\n",
        "        self.conv1 = nn.Conv2d(3, 6, 5)\n",
        "        self.pool = nn.MaxPool2d(2, 2)\n",
        "        self.conv2 = nn.Conv2d(6, 16, 5)\n",
        "        self.fc1 = nn.Linear(16 * 5 * 5, 120)\n",
        "        self.fc2 = nn.Linear(120, 84)\n",
        "        self.fc3 = nn.Linear(84, 10)\n",
        "\n",
        "    def forward(self, x):\n",
        "        x = self.pool(F.relu(self.conv1(x)))\n",
        "        x = self.pool(F.relu(self.conv2(x)))\n",
        "        x = x.view(-1, 16 * 5 * 5)\n",
        "        x = F.relu(self.fc1(x))\n",
        "        x = F.relu(self.fc2(x))\n",
        "        x = self.fc3(x)\n",
        "        return x\n",
        "\n",
        "net = Net()\n",
        "print(net)"
      ]
    },
    {
      "cell_type": "markdown",
      "metadata": {
        "id": "2NUcTBTq-s-I"
      },
      "source": [
        "### 3. Initialize the optimizer\n",
        "\n",
        "We will use SGD with momentum.\n",
        "\n",
        "\n"
      ]
    },
    {
      "cell_type": "code",
      "execution_count": 7,
      "metadata": {
        "id": "4GJPQlw0-s-K"
      },
      "outputs": [],
      "source": [
        "optimizer = optim.SGD(net.parameters(), lr=0.001, momentum=0.9)"
      ]
    },
    {
      "cell_type": "markdown",
      "metadata": {
        "id": "dF_pL1pc-s-N"
      },
      "source": [
        "### 4. Save the general checkpoint\n",
        "\n",
        "Collect all relevant information and build your dictionary.\n",
        "\n",
        "\n"
      ]
    },
    {
      "cell_type": "code",
      "execution_count": 8,
      "metadata": {
        "id": "6JLRj1P7-s-P"
      },
      "outputs": [],
      "source": [
        "# Additional information\n",
        "EPOCH = 5\n",
        "PATH = \"model.pt\"\n",
        "LOSS = 0.4\n",
        "\n",
        "torch.save({\n",
        "            'epoch': EPOCH,\n",
        "            'model_state_dict': net.state_dict(),\n",
        "            'optimizer_state_dict': optimizer.state_dict(),\n",
        "            'loss': LOSS,\n",
        "            }, PATH)"
      ]
    },
    {
      "cell_type": "markdown",
      "metadata": {
        "id": "qMr1eoN8-s-R"
      },
      "source": [
        "### 5. Load the general checkpoint\n",
        "\n",
        "Remember to first initialize the model and optimizer, then load the\n",
        "dictionary locally.\n",
        "\n",
        "\n"
      ]
    },
    {
      "cell_type": "code",
      "execution_count": 9,
      "metadata": {
        "id": "T2g3mooW-s-S",
        "outputId": "b1c4ffdf-509d-4ea9-a667-ef5d0f5787c1",
        "colab": {
          "base_uri": "https://localhost:8080/"
        }
      },
      "outputs": [
        {
          "output_type": "execute_result",
          "data": {
            "text/plain": [
              "Net(\n",
              "  (conv1): Conv2d(3, 6, kernel_size=(5, 5), stride=(1, 1))\n",
              "  (pool): MaxPool2d(kernel_size=2, stride=2, padding=0, dilation=1, ceil_mode=False)\n",
              "  (conv2): Conv2d(6, 16, kernel_size=(5, 5), stride=(1, 1))\n",
              "  (fc1): Linear(in_features=400, out_features=120, bias=True)\n",
              "  (fc2): Linear(in_features=120, out_features=84, bias=True)\n",
              "  (fc3): Linear(in_features=84, out_features=10, bias=True)\n",
              ")"
            ]
          },
          "metadata": {},
          "execution_count": 9
        }
      ],
      "source": [
        "model = Net()\n",
        "optimizer = optim.SGD(model.parameters(), lr=0.001, momentum=0.9)\n",
        "\n",
        "checkpoint = torch.load(PATH)\n",
        "model.load_state_dict(checkpoint['model_state_dict'])\n",
        "optimizer.load_state_dict(checkpoint['optimizer_state_dict'])\n",
        "epoch = checkpoint['epoch']\n",
        "loss = checkpoint['loss']\n",
        "\n",
        "model.eval()\n",
        "# - or -\n",
        "model.train()"
      ]
    },
    {
      "cell_type": "markdown",
      "metadata": {
        "id": "wxd0q6hh-s-T"
      },
      "source": [
        "You must call ``model.eval()`` to set dropout and batch normalization\n",
        "layers to evaluation mode before running inference. Failing to do this\n",
        "will yield inconsistent inference results.\n",
        "\n",
        "If you wish to resuming training, call ``model.train()`` to ensure these\n",
        "layers are in training mode.\n",
        "\n",
        "Congratulations! You have successfully saved and loaded a general\n",
        "checkpoint for inference and/or resuming training in PyTorch.\n",
        "\n",
        "\n"
      ]
    }
  ],
  "metadata": {
    "kernelspec": {
      "display_name": "Python 3",
      "language": "python",
      "name": "python3"
    },
    "language_info": {
      "codemirror_mode": {
        "name": "ipython",
        "version": 3
      },
      "file_extension": ".py",
      "mimetype": "text/x-python",
      "name": "python",
      "nbconvert_exporter": "python",
      "pygments_lexer": "ipython3",
      "version": "3.10.10"
    },
    "colab": {
      "provenance": [],
      "include_colab_link": true
    }
  },
  "nbformat": 4,
  "nbformat_minor": 0
}